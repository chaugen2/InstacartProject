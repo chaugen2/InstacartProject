{
 "cells": [
  {
   "cell_type": "markdown",
   "id": "eed9dda9",
   "metadata": {},
   "source": [
    "# 01. Importing Libraries"
   ]
  },
  {
   "cell_type": "code",
   "execution_count": 1,
   "id": "737c794a",
   "metadata": {},
   "outputs": [],
   "source": [
    "# Import Libraries\n",
    "import pandas as pd\n",
    "import numpy as np\n",
    "import os"
   ]
  },
  {
   "cell_type": "markdown",
   "id": "02d737d1",
   "metadata": {},
   "source": [
    "# 02. Python Data Types"
   ]
  },
  {
   "cell_type": "code",
   "execution_count": 10,
   "id": "9c123b7f",
   "metadata": {},
   "outputs": [],
   "source": [
    "# Coding to Reach 100\n",
    "x = 25"
   ]
  },
  {
   "cell_type": "code",
   "execution_count": 3,
   "id": "8cdeb3c0",
   "metadata": {},
   "outputs": [],
   "source": [
    "y = 75"
   ]
  },
  {
   "cell_type": "code",
   "execution_count": 4,
   "id": "b68e893b",
   "metadata": {},
   "outputs": [
    {
     "data": {
      "text/plain": [
       "100"
      ]
     },
     "execution_count": 4,
     "metadata": {},
     "output_type": "execute_result"
    }
   ],
   "source": [
    "x + y"
   ]
  },
  {
   "cell_type": "code",
   "execution_count": 5,
   "id": "fefe14a3",
   "metadata": {},
   "outputs": [],
   "source": [
    "a = 10"
   ]
  },
  {
   "cell_type": "code",
   "execution_count": 6,
   "id": "129cfc10",
   "metadata": {},
   "outputs": [],
   "source": [
    "b = 90"
   ]
  },
  {
   "cell_type": "code",
   "execution_count": 7,
   "id": "339fa2f5",
   "metadata": {},
   "outputs": [
    {
     "data": {
      "text/plain": [
       "100"
      ]
     },
     "execution_count": 7,
     "metadata": {},
     "output_type": "execute_result"
    }
   ],
   "source": [
    "a + b"
   ]
  },
  {
   "cell_type": "code",
   "execution_count": 8,
   "id": "9c7c8d2c",
   "metadata": {},
   "outputs": [],
   "source": [
    "c = 15"
   ]
  },
  {
   "cell_type": "code",
   "execution_count": 9,
   "id": "a306bd4a",
   "metadata": {},
   "outputs": [
    {
     "data": {
      "text/plain": [
       "100"
      ]
     },
     "execution_count": 9,
     "metadata": {},
     "output_type": "execute_result"
    }
   ],
   "source": [
    "(b + x) - c"
   ]
  },
  {
   "cell_type": "code",
   "execution_count": 11,
   "id": "0e0df4d3",
   "metadata": {},
   "outputs": [],
   "source": [
    "# Floating Point Variables\n",
    "d = 6.78"
   ]
  },
  {
   "cell_type": "code",
   "execution_count": 12,
   "id": "205ba1db",
   "metadata": {},
   "outputs": [],
   "source": [
    "e = 3.45"
   ]
  },
  {
   "cell_type": "code",
   "execution_count": 13,
   "id": "edd3f384",
   "metadata": {},
   "outputs": [
    {
     "data": {
      "text/plain": [
       "1.9652173913043478"
      ]
     },
     "execution_count": 13,
     "metadata": {},
     "output_type": "execute_result"
    }
   ],
   "source": [
    "d/e"
   ]
  },
  {
   "cell_type": "code",
   "execution_count": 19,
   "id": "2c21ea61",
   "metadata": {},
   "outputs": [],
   "source": [
    "# Concencating Words and Sentences\n",
    "f = 'Gemüt'"
   ]
  },
  {
   "cell_type": "code",
   "execution_count": 16,
   "id": "8242d51c",
   "metadata": {},
   "outputs": [],
   "source": [
    "g = 'lich'"
   ]
  },
  {
   "cell_type": "code",
   "execution_count": 17,
   "id": "baf81ace",
   "metadata": {},
   "outputs": [],
   "source": [
    "h = 'keit'"
   ]
  },
  {
   "cell_type": "code",
   "execution_count": 18,
   "id": "4f6644f7",
   "metadata": {},
   "outputs": [
    {
     "data": {
      "text/plain": [
       "'Gemütlichkeit'"
      ]
     },
     "execution_count": 18,
     "metadata": {},
     "output_type": "execute_result"
    }
   ],
   "source": [
    "f + g + h"
   ]
  },
  {
   "cell_type": "code",
   "execution_count": 22,
   "id": "4c5d2c4c",
   "metadata": {},
   "outputs": [],
   "source": [
    "h = 'Guten '"
   ]
  },
  {
   "cell_type": "code",
   "execution_count": 21,
   "id": "1eab8d15",
   "metadata": {},
   "outputs": [],
   "source": [
    "i = 'Tag'"
   ]
  },
  {
   "cell_type": "code",
   "execution_count": 24,
   "id": "7a035154",
   "metadata": {},
   "outputs": [],
   "source": [
    "j = 'Abend'"
   ]
  },
  {
   "cell_type": "code",
   "execution_count": 25,
   "id": "44cdbee0",
   "metadata": {},
   "outputs": [],
   "source": [
    "k = '!'"
   ]
  },
  {
   "cell_type": "code",
   "execution_count": 26,
   "id": "2a699236",
   "metadata": {},
   "outputs": [
    {
     "data": {
      "text/plain": [
       "'Guten Tag!'"
      ]
     },
     "execution_count": 26,
     "metadata": {},
     "output_type": "execute_result"
    }
   ],
   "source": [
    "h + i + k"
   ]
  },
  {
   "cell_type": "code",
   "execution_count": 27,
   "id": "44875382",
   "metadata": {},
   "outputs": [
    {
     "data": {
      "text/plain": [
       "'Guten Abend!'"
      ]
     },
     "execution_count": 27,
     "metadata": {},
     "output_type": "execute_result"
    }
   ],
   "source": [
    "h + j + k"
   ]
  },
  {
   "cell_type": "code",
   "execution_count": 30,
   "id": "4b12c4fd",
   "metadata": {},
   "outputs": [],
   "source": [
    "# Bonus Task\n",
    "l = '100'"
   ]
  },
  {
   "cell_type": "code",
   "execution_count": 31,
   "id": "994358d8",
   "metadata": {},
   "outputs": [
    {
     "data": {
      "text/plain": [
       "'100100100100100100100100100100100100100100100100100100100100100100100100100100100100100100100100100100100100100100100100100100100100100100100100100100100100100100100100100100100100100100100100100100100100100100100100100100100100100100100100100100100100100100100100100100100100100100100100100100100100'"
      ]
     },
     "execution_count": 31,
     "metadata": {},
     "output_type": "execute_result"
    }
   ],
   "source": [
    "l * 100"
   ]
  },
  {
   "cell_type": "code",
   "execution_count": null,
   "id": "04198e98",
   "metadata": {},
   "outputs": [],
   "source": []
  }
 ],
 "metadata": {
  "kernelspec": {
   "display_name": "Python 3 (ipykernel)",
   "language": "python",
   "name": "python3"
  },
  "language_info": {
   "codemirror_mode": {
    "name": "ipython",
    "version": 3
   },
   "file_extension": ".py",
   "mimetype": "text/x-python",
   "name": "python",
   "nbconvert_exporter": "python",
   "pygments_lexer": "ipython3",
   "version": "3.9.7"
  }
 },
 "nbformat": 4,
 "nbformat_minor": 5
}
