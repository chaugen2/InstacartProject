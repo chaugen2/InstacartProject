{
 "cells": [
  {
   "cell_type": "markdown",
   "id": "ffae59c8",
   "metadata": {},
   "source": [
    "# 01. Importing Libraries"
   ]
  },
  {
   "cell_type": "code",
   "execution_count": 4,
   "id": "4d47a2be",
   "metadata": {},
   "outputs": [],
   "source": [
    " # Import libraries\n",
    "import pandas as pd\n",
    "import numpy as np\n",
    "import os"
   ]
  },
  {
   "cell_type": "markdown",
   "id": "48aaf05a",
   "metadata": {},
   "source": [
    "# 02. Data Types"
   ]
  },
  {
   "cell_type": "code",
   "execution_count": 5,
   "id": "c6e6a703",
   "metadata": {},
   "outputs": [],
   "source": [
    "x = 2"
   ]
  },
  {
   "cell_type": "code",
   "execution_count": 6,
   "id": "120cb02e",
   "metadata": {},
   "outputs": [
    {
     "data": {
      "text/plain": [
       "2"
      ]
     },
     "execution_count": 6,
     "metadata": {},
     "output_type": "execute_result"
    }
   ],
   "source": [
    "x"
   ]
  },
  {
   "cell_type": "code",
   "execution_count": 7,
   "id": "d1b45c63",
   "metadata": {},
   "outputs": [
    {
     "name": "stdout",
     "output_type": "stream",
     "text": [
      "2\n"
     ]
    }
   ],
   "source": [
    "print(x)"
   ]
  },
  {
   "cell_type": "code",
   "execution_count": 8,
   "id": "a27d4af4",
   "metadata": {},
   "outputs": [
    {
     "data": {
      "text/plain": [
       "int"
      ]
     },
     "execution_count": 8,
     "metadata": {},
     "output_type": "execute_result"
    }
   ],
   "source": [
    "type(x)"
   ]
  },
  {
   "cell_type": "code",
   "execution_count": 10,
   "id": "1be299f4",
   "metadata": {},
   "outputs": [],
   "source": [
    "y = 5.678"
   ]
  },
  {
   "cell_type": "code",
   "execution_count": 11,
   "id": "0533a53a",
   "metadata": {},
   "outputs": [
    {
     "data": {
      "text/plain": [
       "float"
      ]
     },
     "execution_count": 11,
     "metadata": {},
     "output_type": "execute_result"
    }
   ],
   "source": [
    "type(y)"
   ]
  },
  {
   "cell_type": "code",
   "execution_count": 12,
   "id": "ed4bfcc6",
   "metadata": {},
   "outputs": [],
   "source": [
    "z = 'Brazil'"
   ]
  },
  {
   "cell_type": "code",
   "execution_count": 13,
   "id": "592bb01a",
   "metadata": {},
   "outputs": [
    {
     "data": {
      "text/plain": [
       "str"
      ]
     },
     "execution_count": 13,
     "metadata": {},
     "output_type": "execute_result"
    }
   ],
   "source": [
    "type(z)"
   ]
  },
  {
   "cell_type": "code",
   "execution_count": 14,
   "id": "a8e0b183",
   "metadata": {},
   "outputs": [
    {
     "data": {
      "text/plain": [
       "str"
      ]
     },
     "execution_count": 14,
     "metadata": {},
     "output_type": "execute_result"
    }
   ],
   "source": [
    "type('Mania')"
   ]
  },
  {
   "cell_type": "code",
   "execution_count": 15,
   "id": "0b1068ce",
   "metadata": {},
   "outputs": [
    {
     "data": {
      "text/plain": [
       "bool"
      ]
     },
     "execution_count": 15,
     "metadata": {},
     "output_type": "execute_result"
    }
   ],
   "source": [
    "type(True)"
   ]
  },
  {
   "cell_type": "code",
   "execution_count": 16,
   "id": "58ac8557",
   "metadata": {},
   "outputs": [
    {
     "data": {
      "text/plain": [
       "bool"
      ]
     },
     "execution_count": 16,
     "metadata": {},
     "output_type": "execute_result"
    }
   ],
   "source": [
    "type(False)"
   ]
  },
  {
   "cell_type": "code",
   "execution_count": 17,
   "id": "84e70001",
   "metadata": {},
   "outputs": [
    {
     "name": "stdout",
     "output_type": "stream",
     "text": [
      "2\n"
     ]
    }
   ],
   "source": [
    "print(x)"
   ]
  },
  {
   "cell_type": "code",
   "execution_count": 18,
   "id": "136051aa",
   "metadata": {},
   "outputs": [
    {
     "data": {
      "text/plain": [
       "6"
      ]
     },
     "execution_count": 18,
     "metadata": {},
     "output_type": "execute_result"
    }
   ],
   "source": [
    "x + 4"
   ]
  },
  {
   "cell_type": "code",
   "execution_count": 19,
   "id": "0e272e39",
   "metadata": {},
   "outputs": [
    {
     "data": {
      "text/plain": [
       "7.678"
      ]
     },
     "execution_count": 19,
     "metadata": {},
     "output_type": "execute_result"
    }
   ],
   "source": [
    "x + y"
   ]
  },
  {
   "cell_type": "code",
   "execution_count": 20,
   "id": "24e4c116",
   "metadata": {},
   "outputs": [],
   "source": [
    "x = x + 4"
   ]
  },
  {
   "cell_type": "code",
   "execution_count": 21,
   "id": "cfd1bdb6",
   "metadata": {},
   "outputs": [
    {
     "name": "stdout",
     "output_type": "stream",
     "text": [
      "6\n"
     ]
    }
   ],
   "source": [
    "print(x)"
   ]
  },
  {
   "cell_type": "code",
   "execution_count": 26,
   "id": "c24ea23a",
   "metadata": {},
   "outputs": [],
   "source": [
    "a = 'Hello,'"
   ]
  },
  {
   "cell_type": "code",
   "execution_count": 29,
   "id": "4bd7da5f",
   "metadata": {},
   "outputs": [],
   "source": [
    "b = ' Marley'"
   ]
  },
  {
   "cell_type": "code",
   "execution_count": 30,
   "id": "78214eec",
   "metadata": {},
   "outputs": [
    {
     "data": {
      "text/plain": [
       "'Hello, Marley'"
      ]
     },
     "execution_count": 30,
     "metadata": {},
     "output_type": "execute_result"
    }
   ],
   "source": [
    "a + b"
   ]
  },
  {
   "cell_type": "code",
   "execution_count": 32,
   "id": "88503c4f",
   "metadata": {},
   "outputs": [],
   "source": [
    "n = 'potato'"
   ]
  },
  {
   "cell_type": "code",
   "execution_count": 33,
   "id": "b84736b5",
   "metadata": {},
   "outputs": [
    {
     "data": {
      "text/plain": [
       "'potatopotatopotatopotatopotatopotatopotatopotatopotatopotatopotatopotato'"
      ]
     },
     "execution_count": 33,
     "metadata": {},
     "output_type": "execute_result"
    }
   ],
   "source": [
    "n * 12"
   ]
  },
  {
   "cell_type": "code",
   "execution_count": 34,
   "id": "3a7ae1ba",
   "metadata": {},
   "outputs": [
    {
     "data": {
      "text/plain": [
       "False"
      ]
     },
     "execution_count": 34,
     "metadata": {},
     "output_type": "execute_result"
    }
   ],
   "source": [
    "x == y"
   ]
  },
  {
   "cell_type": "code",
   "execution_count": 35,
   "id": "21a626a5",
   "metadata": {},
   "outputs": [
    {
     "data": {
      "text/plain": [
       "bool"
      ]
     },
     "execution_count": 35,
     "metadata": {},
     "output_type": "execute_result"
    }
   ],
   "source": [
    "type(x == y)"
   ]
  },
  {
   "cell_type": "code",
   "execution_count": null,
   "id": "87d65cb5",
   "metadata": {},
   "outputs": [],
   "source": []
  },
  {
   "cell_type": "code",
   "execution_count": null,
   "id": "2d78992f",
   "metadata": {},
   "outputs": [],
   "source": []
  },
  {
   "cell_type": "code",
   "execution_count": null,
   "id": "f5e5f2fa",
   "metadata": {},
   "outputs": [],
   "source": []
  }
 ],
 "metadata": {
  "kernelspec": {
   "display_name": "Python 3 (ipykernel)",
   "language": "python",
   "name": "python3"
  },
  "language_info": {
   "codemirror_mode": {
    "name": "ipython",
    "version": 3
   },
   "file_extension": ".py",
   "mimetype": "text/x-python",
   "name": "python",
   "nbconvert_exporter": "python",
   "pygments_lexer": "ipython3",
   "version": "3.9.7"
  }
 },
 "nbformat": 4,
 "nbformat_minor": 5
}
