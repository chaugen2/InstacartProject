{
 "cells": [
  {
   "cell_type": "markdown",
   "id": "c759e001",
   "metadata": {},
   "source": [
    "# Task 4.9"
   ]
  },
  {
   "cell_type": "markdown",
   "id": "403dae24",
   "metadata": {},
   "source": [
    "### Import Data and Libraries"
   ]
  },
  {
   "cell_type": "code",
   "execution_count": 1,
   "id": "e59d8cb7",
   "metadata": {},
   "outputs": [],
   "source": [
    "# Import libraries\n",
    "\n",
    "import pandas as pd\n",
    "import numpy as np\n",
    "import os\n",
    "import matplotlib.pyplot as plt\n",
    "import seaborn as sns\n",
    "import scipy"
   ]
  },
  {
   "cell_type": "code",
   "execution_count": 2,
   "id": "fb64ba56",
   "metadata": {},
   "outputs": [],
   "source": [
    "# Create path to folder\n",
    "path = r'/Users/caitlin/Documents 2/Instacart Basket Analysis 12.2021'"
   ]
  },
  {
   "cell_type": "code",
   "execution_count": 3,
   "id": "7500ce08",
   "metadata": {},
   "outputs": [
    {
     "data": {
      "text/plain": [
       "'/Users/caitlin/Documents 2/Instacart Basket Analysis 12.2021'"
      ]
     },
     "execution_count": 3,
     "metadata": {},
     "output_type": "execute_result"
    }
   ],
   "source": [
    "# Check path\n",
    "\n",
    "path"
   ]
  },
  {
   "cell_type": "code",
   "execution_count": 4,
   "id": "801c9b82",
   "metadata": {},
   "outputs": [],
   "source": [
    "# Import data file\n",
    "ords_prods_merged = pd.read_pickle(os.path.join(path, '02 Data', 'Prepared Data', 'orders_products_grouped.pkl'))"
   ]
  },
  {
   "cell_type": "markdown",
   "id": "395eed14",
   "metadata": {},
   "source": [
    "### Create Bar Chart"
   ]
  },
  {
   "cell_type": "code",
   "execution_count": 5,
   "id": "2c4aab6a",
   "metadata": {},
   "outputs": [
    {
     "data": {
      "text/plain": [
       "<AxesSubplot:>"
      ]
     },
     "execution_count": 5,
     "metadata": {},
     "output_type": "execute_result"
    },
    {
     "data": {
      "image/png": "[encoded data removed]",
      "text/plain": [
       "<Figure size 432x288 with 1 Axes>"
      ]
     },
     "metadata": {
      "needs_background": "light"
     },
     "output_type": "display_data"
    }
   ],
   "source": [
    "# Create bar chart using matplotlib\n",
    "ords_prods_merged['orders_day_of_week'].value_counts().plot.bar()"
   ]
  },
  {
   "cell_type": "code",
   "execution_count": 6,
   "id": "bd897cbc",
   "metadata": {},
   "outputs": [
    {
     "data": {
      "text/plain": [
       "<AxesSubplot:>"
      ]
     },
     "execution_count": 6,
     "metadata": {},
     "output_type": "execute_result"
    },
    {
     "data": {
      "image/png": "[encoded data removed]",
      "text/plain": [
       "<Figure size 432x288 with 1 Axes>"
      ]
     },
     "metadata": {
      "needs_background": "light"
     },
     "output_type": "display_data"
    }
   ],
   "source": [
    "# Create bar chart using sort index - so it is not no ordered largest to smallest\n",
    "ords_prods_merged['orders_day_of_week'].value_counts().sort_index().plot.bar()"
   ]
  },
  {
   "cell_type": "markdown",
   "id": "9198c3cf",
   "metadata": {},
   "source": [
    "Frequencies can also use the sort index function:"
   ]
  },
  {
   "cell_type": "code",
   "execution_count": 7,
   "id": "a0a3fb08",
   "metadata": {},
   "outputs": [
    {
     "data": {
      "text/plain": [
       "0    6204182\n",
       "1    5660230\n",
       "6    4496490\n",
       "2    4213830\n",
       "5    4205791\n",
       "3    3840534\n",
       "4    3783802\n",
       "Name: orders_day_of_week, dtype: int64"
      ]
     },
     "execution_count": 7,
     "metadata": {},
     "output_type": "execute_result"
    }
   ],
   "source": [
    "# Frequencies without sort index\n",
    "ords_prods_merged['orders_day_of_week'].value_counts(dropna = False)"
   ]
  },
  {
   "cell_type": "code",
   "execution_count": 8,
   "id": "d6f8b5a3",
   "metadata": {},
   "outputs": [
    {
     "data": {
      "text/plain": [
       "0    6204182\n",
       "1    5660230\n",
       "2    4213830\n",
       "3    3840534\n",
       "4    3783802\n",
       "5    4205791\n",
       "6    4496490\n",
       "Name: orders_day_of_week, dtype: int64"
      ]
     },
     "execution_count": 8,
     "metadata": {},
     "output_type": "execute_result"
    }
   ],
   "source": [
    "# Frequencies with sort index\n",
    "ords_prods_merged['orders_day_of_week'].value_counts(dropna = False).sort_index()"
   ]
  },
  {
   "cell_type": "markdown",
   "id": "bd95075b",
   "metadata": {},
   "source": [
    "Change color on bar chart:"
   ]
  },
  {
   "cell_type": "code",
   "execution_count": 9,
   "id": "46fdb5ea",
   "metadata": {},
   "outputs": [
    {
     "data": {
      "text/plain": [
       "<AxesSubplot:>"
      ]
     },
     "execution_count": 9,
     "metadata": {},
     "output_type": "execute_result"
    },
    {
     "data": {
      "image/png": "[encoded data removed]",
      "text/plain": [
       "<Figure size 432x288 with 1 Axes>"
      ]
     },
     "metadata": {
      "needs_background": "light"
     },
     "output_type": "display_data"
    }
   ],
   "source": [
    "# Create bar chart with color\n",
    "ords_prods_merged['orders_day_of_week'].value_counts().plot.bar(color =['purple', 'red', 'pink', 'yellow' ,'green', 'blue'])"
   ]
  },
  {
   "cell_type": "markdown",
   "id": "55eab3d8",
   "metadata": {},
   "source": [
    "### Exporting Charts"
   ]
  },
  {
   "cell_type": "code",
   "execution_count": 10,
   "id": "096d7610",
   "metadata": {},
   "outputs": [
    {
     "data": {
      "image/png": "[encoded data removed]",
      "text/plain": [
       "<Figure size 432x288 with 1 Axes>"
      ]
     },
     "metadata": {
      "needs_background": "light"
     },
     "output_type": "display_data"
    }
   ],
   "source": [
    "# Save bar chart as bar object\n",
    "bar = ords_prods_merged['orders_day_of_week'].value_counts().plot.bar(color =['purple', 'red', 'pink', 'yellow' ,'green', 'blue'])"
   ]
  },
  {
   "cell_type": "code",
   "execution_count": 11,
   "id": "05217498",
   "metadata": {},
   "outputs": [],
   "source": [
    "# Export bar outside Jupyter\n",
    "bar.figure.savefig(os.path.join(path, '04 Analysis','Visualizations', 'bar_orders_dow.png'))"
   ]
  },
  {
   "cell_type": "markdown",
   "id": "ae6bb7db",
   "metadata": {},
   "source": [
    "### Creating Histograms and Scatterplots"
   ]
  },
  {
   "cell_type": "markdown",
   "id": "2292699d",
   "metadata": {},
   "source": [
    "#### Histograms"
   ]
  },
  {
   "cell_type": "code",
   "execution_count": 12,
   "id": "478f11ed",
   "metadata": {},
   "outputs": [
    {
     "data": {
      "text/plain": [
       "<AxesSubplot:ylabel='Frequency'>"
      ]
     },
     "execution_count": 12,
     "metadata": {},
     "output_type": "execute_result"
    },
    {
     "data": {
      "image/png": "[encoded data removed]",
      "text/plain": [
       "<Figure size 432x288 with 1 Axes>"
      ]
     },
     "metadata": {
      "needs_background": "light"
     },
     "output_type": "display_data"
    }
   ],
   "source": [
    "# Create histogram from prices\n",
    "ords_prods_merged['prices'].plot.hist(bins = 25)"
   ]
  },
  {
   "cell_type": "markdown",
   "id": "91c2c467",
   "metadata": {},
   "source": [
    "The above is not correct. There should be 25 bins, so further investigation is needed."
   ]
  },
  {
   "cell_type": "code",
   "execution_count": 13,
   "id": "97f856b9",
   "metadata": {},
   "outputs": [
    {
     "data": {
      "text/plain": [
       "count    3.240486e+07\n",
       "mean     1.198023e+01\n",
       "std      4.956554e+02\n",
       "min      1.000000e+00\n",
       "25%      4.200000e+00\n",
       "50%      7.400000e+00\n",
       "75%      1.130000e+01\n",
       "max      9.999900e+04\n",
       "Name: prices, dtype: float64"
      ]
     },
     "execution_count": 13,
     "metadata": {},
     "output_type": "execute_result"
    }
   ],
   "source": [
    "# Check data using describe function\n",
    "ords_prods_merged['prices'].describe()"
   ]
  },
  {
   "cell_type": "code",
   "execution_count": 14,
   "id": "bb66da5b",
   "metadata": {},
   "outputs": [
    {
     "data": {
      "text/plain": [
       "11.980225638467232"
      ]
     },
     "execution_count": 14,
     "metadata": {},
     "output_type": "execute_result"
    }
   ],
   "source": [
    "# Check mean, median, max\n",
    "ords_prods_merged['prices'].mean()"
   ]
  },
  {
   "cell_type": "code",
   "execution_count": 15,
   "id": "972b4844",
   "metadata": {},
   "outputs": [
    {
     "data": {
      "text/plain": [
       "7.4"
      ]
     },
     "execution_count": 15,
     "metadata": {},
     "output_type": "execute_result"
    }
   ],
   "source": [
    "ords_prods_merged['prices'].median()"
   ]
  },
  {
   "cell_type": "code",
   "execution_count": 16,
   "id": "a348ae14",
   "metadata": {},
   "outputs": [
    {
     "data": {
      "text/plain": [
       "99999.0"
      ]
     },
     "execution_count": 16,
     "metadata": {},
     "output_type": "execute_result"
    }
   ],
   "source": [
    "ords_prods_merged['prices'].max()"
   ]
  },
  {
   "cell_type": "markdown",
   "id": "ebe61e82",
   "metadata": {},
   "source": [
    "#### Scatterplots"
   ]
  },
  {
   "cell_type": "markdown",
   "id": "92c8e5f6",
   "metadata": {},
   "source": [
    "Normally scatterplots are used to examine two variables, but it can also be used in exploratory analysis."
   ]
  },
  {
   "cell_type": "code",
   "execution_count": 17,
   "id": "86b82712",
   "metadata": {},
   "outputs": [
    {
     "data": {
      "text/plain": [
       "<AxesSubplot:xlabel='prices', ylabel='prices'>"
      ]
     },
     "execution_count": 17,
     "metadata": {},
     "output_type": "execute_result"
    },
    {
     "data": {
      "image/png": "[encoded data removed]",
      "text/plain": [
       "<Figure size 432x288 with 1 Axes>"
      ]
     },
     "metadata": {
      "needs_background": "light"
     },
     "output_type": "display_data"
    }
   ],
   "source": [
    "# Create scatterplot for exploratory analysis\n",
    "sns.scatterplot(x = 'prices', y = 'prices',data = ords_prods_merged)"
   ]
  },
  {
   "cell_type": "markdown",
   "id": "c41d8452",
   "metadata": {},
   "source": [
    "Checking the outlier values:"
   ]
  },
  {
   "cell_type": "code",
   "execution_count": 18,
   "id": "5f38b333",
   "metadata": {
    "scrolled": true
   },
   "outputs": [
    {
     "data": {
      "text/html": [
       "<div>\n",
       "<style scoped>\n",
       "    .dataframe tbody tr th:only-of-type {\n",
       "        vertical-align: middle;\n",
       "    }\n",
       "\n",
       "    .dataframe tbody tr th {\n",
       "        vertical-align: top;\n",
       "    }\n",
       "\n",
       "    .dataframe thead th {\n",
       "        text-align: right;\n",
       "    }\n",
       "</style>\n",
       "<table border=\"1\" class=\"dataframe\">\n",
       "  <thead>\n",
       "    <tr style=\"text-align: right;\">\n",
       "      <th></th>\n",
       "      <th>Unnamed: 0</th>\n",
       "      <th>order_id</th>\n",
       "      <th>user_id</th>\n",
       "      <th>eval_set</th>\n",
       "      <th>order_number</th>\n",
       "      <th>orders_day_of_week</th>\n",
       "      <th>order_hour_of_day</th>\n",
       "      <th>days_since_prior_order</th>\n",
       "      <th>single_order</th>\n",
       "      <th>product_id</th>\n",
       "      <th>...</th>\n",
       "      <th>busiest_day</th>\n",
       "      <th>busiest_days</th>\n",
       "      <th>busiest_period_of_day</th>\n",
       "      <th>max_order</th>\n",
       "      <th>loyalty_flag</th>\n",
       "      <th>spender_type</th>\n",
       "      <th>order_avg</th>\n",
       "      <th>median_order</th>\n",
       "      <th>customer_frequency</th>\n",
       "      <th>median_days_prior_order</th>\n",
       "    </tr>\n",
       "  </thead>\n",
       "  <tbody>\n",
       "    <tr>\n",
       "      <th>10030345</th>\n",
       "      <td>171</td>\n",
       "      <td>912404</td>\n",
       "      <td>17</td>\n",
       "      <td>prior</td>\n",
       "      <td>12</td>\n",
       "      <td>2</td>\n",
       "      <td>14</td>\n",
       "      <td>5.0</td>\n",
       "      <td>False</td>\n",
       "      <td>21553</td>\n",
       "      <td>...</td>\n",
       "      <td>Regularly busy</td>\n",
       "      <td>Regularly busy</td>\n",
       "      <td>Busiest Times</td>\n",
       "      <td>40</td>\n",
       "      <td>Regular Customer</td>\n",
       "      <td>High Spender</td>\n",
       "      <td>108.648299</td>\n",
       "      <td>5.0</td>\n",
       "      <td>Frequent Customer</td>\n",
       "      <td>5.0</td>\n",
       "    </tr>\n",
       "    <tr>\n",
       "      <th>10030346</th>\n",
       "      <td>181</td>\n",
       "      <td>603376</td>\n",
       "      <td>17</td>\n",
       "      <td>prior</td>\n",
       "      <td>22</td>\n",
       "      <td>6</td>\n",
       "      <td>16</td>\n",
       "      <td>4.0</td>\n",
       "      <td>False</td>\n",
       "      <td>21553</td>\n",
       "      <td>...</td>\n",
       "      <td>Regularly busy</td>\n",
       "      <td>Regularly busy</td>\n",
       "      <td>Busiest Times</td>\n",
       "      <td>40</td>\n",
       "      <td>Regular Customer</td>\n",
       "      <td>High Spender</td>\n",
       "      <td>108.648299</td>\n",
       "      <td>5.0</td>\n",
       "      <td>Frequent Customer</td>\n",
       "      <td>5.0</td>\n",
       "    </tr>\n",
       "    <tr>\n",
       "      <th>10030347</th>\n",
       "      <td>1944</td>\n",
       "      <td>3264360</td>\n",
       "      <td>135</td>\n",
       "      <td>prior</td>\n",
       "      <td>2</td>\n",
       "      <td>2</td>\n",
       "      <td>21</td>\n",
       "      <td>13.0</td>\n",
       "      <td>False</td>\n",
       "      <td>21553</td>\n",
       "      <td>...</td>\n",
       "      <td>Regularly busy</td>\n",
       "      <td>Regularly busy</td>\n",
       "      <td>Moderate Times</td>\n",
       "      <td>4</td>\n",
       "      <td>New Customer</td>\n",
       "      <td>High Spender</td>\n",
       "      <td>1154.792308</td>\n",
       "      <td>12.0</td>\n",
       "      <td>Regular Customer</td>\n",
       "      <td>12.0</td>\n",
       "    </tr>\n",
       "    <tr>\n",
       "      <th>10030348</th>\n",
       "      <td>1945</td>\n",
       "      <td>892534</td>\n",
       "      <td>135</td>\n",
       "      <td>prior</td>\n",
       "      <td>3</td>\n",
       "      <td>0</td>\n",
       "      <td>8</td>\n",
       "      <td>12.0</td>\n",
       "      <td>False</td>\n",
       "      <td>21553</td>\n",
       "      <td>...</td>\n",
       "      <td>Busiest day</td>\n",
       "      <td>Busiest days</td>\n",
       "      <td>Busiest Times</td>\n",
       "      <td>4</td>\n",
       "      <td>New Customer</td>\n",
       "      <td>High Spender</td>\n",
       "      <td>1154.792308</td>\n",
       "      <td>12.0</td>\n",
       "      <td>Regular Customer</td>\n",
       "      <td>12.0</td>\n",
       "    </tr>\n",
       "    <tr>\n",
       "      <th>10030349</th>\n",
       "      <td>5708</td>\n",
       "      <td>229704</td>\n",
       "      <td>342</td>\n",
       "      <td>prior</td>\n",
       "      <td>8</td>\n",
       "      <td>1</td>\n",
       "      <td>19</td>\n",
       "      <td>30.0</td>\n",
       "      <td>False</td>\n",
       "      <td>21553</td>\n",
       "      <td>...</td>\n",
       "      <td>Regularly busy</td>\n",
       "      <td>Busiest days</td>\n",
       "      <td>Busiest Times</td>\n",
       "      <td>16</td>\n",
       "      <td>Regular Customer</td>\n",
       "      <td>High Spender</td>\n",
       "      <td>114.426619</td>\n",
       "      <td>23.0</td>\n",
       "      <td>Non-Frequent Customer</td>\n",
       "      <td>23.0</td>\n",
       "    </tr>\n",
       "    <tr>\n",
       "      <th>...</th>\n",
       "      <td>...</td>\n",
       "      <td>...</td>\n",
       "      <td>...</td>\n",
       "      <td>...</td>\n",
       "      <td>...</td>\n",
       "      <td>...</td>\n",
       "      <td>...</td>\n",
       "      <td>...</td>\n",
       "      <td>...</td>\n",
       "      <td>...</td>\n",
       "      <td>...</td>\n",
       "      <td>...</td>\n",
       "      <td>...</td>\n",
       "      <td>...</td>\n",
       "      <td>...</td>\n",
       "      <td>...</td>\n",
       "      <td>...</td>\n",
       "      <td>...</td>\n",
       "      <td>...</td>\n",
       "      <td>...</td>\n",
       "      <td>...</td>\n",
       "    </tr>\n",
       "    <tr>\n",
       "      <th>29166209</th>\n",
       "      <td>3386542</td>\n",
       "      <td>2249946</td>\n",
       "      <td>204099</td>\n",
       "      <td>prior</td>\n",
       "      <td>29</td>\n",
       "      <td>0</td>\n",
       "      <td>8</td>\n",
       "      <td>4.0</td>\n",
       "      <td>False</td>\n",
       "      <td>33664</td>\n",
       "      <td>...</td>\n",
       "      <td>Busiest day</td>\n",
       "      <td>Busiest days</td>\n",
       "      <td>Busiest Times</td>\n",
       "      <td>39</td>\n",
       "      <td>Regular Customer</td>\n",
       "      <td>High Spender</td>\n",
       "      <td>1106.743956</td>\n",
       "      <td>4.0</td>\n",
       "      <td>Frequent Customer</td>\n",
       "      <td>4.0</td>\n",
       "    </tr>\n",
       "    <tr>\n",
       "      <th>29166210</th>\n",
       "      <td>3386544</td>\n",
       "      <td>2363282</td>\n",
       "      <td>204099</td>\n",
       "      <td>prior</td>\n",
       "      <td>31</td>\n",
       "      <td>0</td>\n",
       "      <td>9</td>\n",
       "      <td>2.0</td>\n",
       "      <td>False</td>\n",
       "      <td>33664</td>\n",
       "      <td>...</td>\n",
       "      <td>Busiest day</td>\n",
       "      <td>Busiest days</td>\n",
       "      <td>Busiest Times</td>\n",
       "      <td>39</td>\n",
       "      <td>Regular Customer</td>\n",
       "      <td>High Spender</td>\n",
       "      <td>1106.743956</td>\n",
       "      <td>4.0</td>\n",
       "      <td>Frequent Customer</td>\n",
       "      <td>4.0</td>\n",
       "    </tr>\n",
       "    <tr>\n",
       "      <th>29166211</th>\n",
       "      <td>3391313</td>\n",
       "      <td>3181945</td>\n",
       "      <td>204395</td>\n",
       "      <td>prior</td>\n",
       "      <td>13</td>\n",
       "      <td>3</td>\n",
       "      <td>15</td>\n",
       "      <td>8.0</td>\n",
       "      <td>False</td>\n",
       "      <td>33664</td>\n",
       "      <td>...</td>\n",
       "      <td>Regularly busy</td>\n",
       "      <td>Slowest days</td>\n",
       "      <td>Busiest Times</td>\n",
       "      <td>15</td>\n",
       "      <td>Regular Customer</td>\n",
       "      <td>High Spender</td>\n",
       "      <td>451.153540</td>\n",
       "      <td>5.0</td>\n",
       "      <td>Frequent Customer</td>\n",
       "      <td>5.0</td>\n",
       "    </tr>\n",
       "    <tr>\n",
       "      <th>29166212</th>\n",
       "      <td>3405096</td>\n",
       "      <td>2486215</td>\n",
       "      <td>205227</td>\n",
       "      <td>prior</td>\n",
       "      <td>7</td>\n",
       "      <td>3</td>\n",
       "      <td>20</td>\n",
       "      <td>4.0</td>\n",
       "      <td>False</td>\n",
       "      <td>33664</td>\n",
       "      <td>...</td>\n",
       "      <td>Regularly busy</td>\n",
       "      <td>Slowest days</td>\n",
       "      <td>Moderate Times</td>\n",
       "      <td>12</td>\n",
       "      <td>Regular Customer</td>\n",
       "      <td>High Spender</td>\n",
       "      <td>1178.381871</td>\n",
       "      <td>12.0</td>\n",
       "      <td>Regular Customer</td>\n",
       "      <td>12.0</td>\n",
       "    </tr>\n",
       "    <tr>\n",
       "      <th>29166213</th>\n",
       "      <td>3405099</td>\n",
       "      <td>2232716</td>\n",
       "      <td>205227</td>\n",
       "      <td>prior</td>\n",
       "      <td>10</td>\n",
       "      <td>0</td>\n",
       "      <td>11</td>\n",
       "      <td>4.0</td>\n",
       "      <td>False</td>\n",
       "      <td>33664</td>\n",
       "      <td>...</td>\n",
       "      <td>Busiest day</td>\n",
       "      <td>Busiest days</td>\n",
       "      <td>Busiest Times</td>\n",
       "      <td>12</td>\n",
       "      <td>Regular Customer</td>\n",
       "      <td>High Spender</td>\n",
       "      <td>1178.381871</td>\n",
       "      <td>12.0</td>\n",
       "      <td>Regular Customer</td>\n",
       "      <td>12.0</td>\n",
       "    </tr>\n",
       "  </tbody>\n",
       "</table>\n",
       "<p>5127 rows × 28 columns</p>\n",
       "</div>"
      ],
      "text/plain": [
       "          Unnamed: 0  order_id  user_id eval_set  order_number  \\\n",
       "10030345         171    912404       17    prior            12   \n",
       "10030346         181    603376       17    prior            22   \n",
       "10030347        1944   3264360      135    prior             2   \n",
       "10030348        1945    892534      135    prior             3   \n",
       "10030349        5708    229704      342    prior             8   \n",
       "...              ...       ...      ...      ...           ...   \n",
       "29166209     3386542   2249946   204099    prior            29   \n",
       "29166210     3386544   2363282   204099    prior            31   \n",
       "29166211     3391313   3181945   204395    prior            13   \n",
       "29166212     3405096   2486215   205227    prior             7   \n",
       "29166213     3405099   2232716   205227    prior            10   \n",
       "\n",
       "          orders_day_of_week  order_hour_of_day  days_since_prior_order  \\\n",
       "10030345                   2                 14                     5.0   \n",
       "10030346                   6                 16                     4.0   \n",
       "10030347                   2                 21                    13.0   \n",
       "10030348                   0                  8                    12.0   \n",
       "10030349                   1                 19                    30.0   \n",
       "...                      ...                ...                     ...   \n",
       "29166209                   0                  8                     4.0   \n",
       "29166210                   0                  9                     2.0   \n",
       "29166211                   3                 15                     8.0   \n",
       "29166212                   3                 20                     4.0   \n",
       "29166213                   0                 11                     4.0   \n",
       "\n",
       "          single_order  product_id  ...     busiest_day    busiest_days  \\\n",
       "10030345         False       21553  ...  Regularly busy  Regularly busy   \n",
       "10030346         False       21553  ...  Regularly busy  Regularly busy   \n",
       "10030347         False       21553  ...  Regularly busy  Regularly busy   \n",
       "10030348         False       21553  ...     Busiest day    Busiest days   \n",
       "10030349         False       21553  ...  Regularly busy    Busiest days   \n",
       "...                ...         ...  ...             ...             ...   \n",
       "29166209         False       33664  ...     Busiest day    Busiest days   \n",
       "29166210         False       33664  ...     Busiest day    Busiest days   \n",
       "29166211         False       33664  ...  Regularly busy    Slowest days   \n",
       "29166212         False       33664  ...  Regularly busy    Slowest days   \n",
       "29166213         False       33664  ...     Busiest day    Busiest days   \n",
       "\n",
       "         busiest_period_of_day  max_order      loyalty_flag  spender_type  \\\n",
       "10030345         Busiest Times         40  Regular Customer  High Spender   \n",
       "10030346         Busiest Times         40  Regular Customer  High Spender   \n",
       "10030347        Moderate Times          4      New Customer  High Spender   \n",
       "10030348         Busiest Times          4      New Customer  High Spender   \n",
       "10030349         Busiest Times         16  Regular Customer  High Spender   \n",
       "...                        ...        ...               ...           ...   \n",
       "29166209         Busiest Times         39  Regular Customer  High Spender   \n",
       "29166210         Busiest Times         39  Regular Customer  High Spender   \n",
       "29166211         Busiest Times         15  Regular Customer  High Spender   \n",
       "29166212        Moderate Times         12  Regular Customer  High Spender   \n",
       "29166213         Busiest Times         12  Regular Customer  High Spender   \n",
       "\n",
       "            order_avg median_order     customer_frequency  \\\n",
       "10030345   108.648299          5.0      Frequent Customer   \n",
       "10030346   108.648299          5.0      Frequent Customer   \n",
       "10030347  1154.792308         12.0       Regular Customer   \n",
       "10030348  1154.792308         12.0       Regular Customer   \n",
       "10030349   114.426619         23.0  Non-Frequent Customer   \n",
       "...               ...          ...                    ...   \n",
       "29166209  1106.743956          4.0      Frequent Customer   \n",
       "29166210  1106.743956          4.0      Frequent Customer   \n",
       "29166211   451.153540          5.0      Frequent Customer   \n",
       "29166212  1178.381871         12.0       Regular Customer   \n",
       "29166213  1178.381871         12.0       Regular Customer   \n",
       "\n",
       "         median_days_prior_order  \n",
       "10030345                     5.0  \n",
       "10030346                     5.0  \n",
       "10030347                    12.0  \n",
       "10030348                    12.0  \n",
       "10030349                    23.0  \n",
       "...                          ...  \n",
       "29166209                     4.0  \n",
       "29166210                     4.0  \n",
       "29166211                     5.0  \n",
       "29166212                    12.0  \n",
       "29166213                    12.0  \n",
       "\n",
       "[5127 rows x 28 columns]"
      ]
     },
     "execution_count": 18,
     "metadata": {},
     "output_type": "execute_result"
    }
   ],
   "source": [
    "# Check outlier values\n",
    "ords_prods_merged.loc[ords_prods_merged['prices'] > 100]"
   ]
  },
  {
   "cell_type": "markdown",
   "id": "aff23dc8",
   "metadata": {},
   "source": [
    "The prices column was hidden in this view, so I had to add the following code - from the previous task - to see it."
   ]
  },
  {
   "cell_type": "code",
   "execution_count": 19,
   "id": "d47ea77d",
   "metadata": {},
   "outputs": [],
   "source": [
    "# Show all columns\n",
    "pd.options.display.max_columns = None"
   ]
  },
  {
   "cell_type": "code",
   "execution_count": 2,
   "id": "7711ef6e",
   "metadata": {},
   "outputs": [
    {
     "ename": "NameError",
     "evalue": "name 'ords_prods_merged' is not defined",
     "output_type": "error",
     "traceback": [
      "\u001b[0;31m---------------------------------------------------------------------------\u001b[0m",
      "\u001b[0;31mNameError\u001b[0m                                 Traceback (most recent call last)",
      "\u001b[0;32m/var/folders/5y/s1_zpnxx04z7kvvp3b6fff9w0000gn/T/ipykernel_79986/1216859933.py\u001b[0m in \u001b[0;36m<module>\u001b[0;34m\u001b[0m\n\u001b[1;32m      1\u001b[0m \u001b[0;31m# Show outlier values - after showing hidden columns\u001b[0m\u001b[0;34m\u001b[0m\u001b[0;34m\u001b[0m\u001b[0m\n\u001b[0;32m----> 2\u001b[0;31m \u001b[0mords_prods_merged\u001b[0m\u001b[0;34m.\u001b[0m\u001b[0mloc\u001b[0m\u001b[0;34m[\u001b[0m\u001b[0mords_prods_merged\u001b[0m\u001b[0;34m[\u001b[0m\u001b[0;34m'prices'\u001b[0m\u001b[0;34m]\u001b[0m \u001b[0;34m>\u001b[0m \u001b[0;36m100\u001b[0m\u001b[0;34m]\u001b[0m\u001b[0;34m\u001b[0m\u001b[0;34m\u001b[0m\u001b[0m\n\u001b[0m",
      "\u001b[0;31mNameError\u001b[0m: name 'ords_prods_merged' is not defined"
     ]
    }
   ],
   "source": [
    "# Show outlier values - after showing hidden columns\n",
    "ords_prods_merged.loc[ords_prods_merged['prices'] > 100]"
   ]
  },
  {
   "cell_type": "markdown",
   "id": "e9ea72c5",
   "metadata": {},
   "source": [
    "The adjustment worked, now I can see all columns. I can also see that clearly certain items have been priced incorrectly. I have NEVER seen milk that is almost 100K :)."
   ]
  },
  {
   "cell_type": "code",
   "execution_count": 21,
   "id": "3e6327e1",
   "metadata": {},
   "outputs": [],
   "source": [
    "# Mark outliers as missing since they are incorrect and skewing visualizations\n",
    "ords_prods_merged.loc[ords_prods_merged['prices'] > 100, 'prices'] = np.nan"
   ]
  },
  {
   "cell_type": "code",
   "execution_count": 22,
   "id": "10f90ab8",
   "metadata": {},
   "outputs": [
    {
     "data": {
      "text/plain": [
       "25.0"
      ]
     },
     "execution_count": 22,
     "metadata": {},
     "output_type": "execute_result"
    }
   ],
   "source": [
    "# Check if replacement was successful\n",
    "ords_prods_merged['prices'].max()"
   ]
  },
  {
   "cell_type": "markdown",
   "id": "1869cf27",
   "metadata": {},
   "source": [
    "Since the max price is now 25, it appears to have worked."
   ]
  },
  {
   "cell_type": "code",
   "execution_count": 23,
   "id": "27868c10",
   "metadata": {},
   "outputs": [
    {
     "data": {
      "text/plain": [
       "<AxesSubplot:ylabel='Frequency'>"
      ]
     },
     "execution_count": 23,
     "metadata": {},
     "output_type": "execute_result"
    },
    {
     "data": {
      "image/png": "[encoded data removed]",
      "text/plain": [
       "<Figure size 432x288 with 1 Axes>"
      ]
     },
     "metadata": {
      "needs_background": "light"
     },
     "output_type": "display_data"
    }
   ],
   "source": [
    "# Create new scatterplot with updated data\n",
    "ords_prods_merged['prices'].plot.hist(bins = 25)"
   ]
  },
  {
   "cell_type": "code",
   "execution_count": 24,
   "id": "8fc99206",
   "metadata": {
    "scrolled": true
   },
   "outputs": [
    {
     "data": {
      "text/plain": [
       "<AxesSubplot:ylabel='Frequency'>"
      ]
     },
     "execution_count": 24,
     "metadata": {},
     "output_type": "execute_result"
    },
    {
     "data": {
      "image/png": "[encoded data removed]",
      "text/plain": [
       "<Figure size 432x288 with 1 Axes>"
      ]
     },
     "metadata": {
      "needs_background": "light"
     },
     "output_type": "display_data"
    }
   ],
   "source": [
    "# Create histogram with more granularity\n",
    "ords_prods_merged['prices'].plot.hist(bins = 70)"
   ]
  },
  {
   "cell_type": "markdown",
   "id": "f1c4b13b",
   "metadata": {},
   "source": [
    "#### Export Histogram Outside Jupyter"
   ]
  },
  {
   "cell_type": "code",
   "execution_count": 25,
   "id": "1d2d3a44",
   "metadata": {},
   "outputs": [],
   "source": [
    "# Export bar outside Jupyter\n",
    "bar.figure.savefig(os.path.join(path, '04 Analysis','Visualizations', 'hist_prices.png'))"
   ]
  },
  {
   "cell_type": "markdown",
   "id": "f903d835",
   "metadata": {},
   "source": [
    "#### Creating Line Charts"
   ]
  },
  {
   "cell_type": "markdown",
   "id": "1819500e",
   "metadata": {},
   "source": [
    "##### Sampling Data"
   ]
  },
  {
   "cell_type": "code",
   "execution_count": 26,
   "id": "14205377",
   "metadata": {},
   "outputs": [],
   "source": [
    "# Create list holding true/false values to test np.random \n",
    "np.random.seed(4)\n",
    "dev = np.random.rand(len(ords_prods_merged)) <= 0.7"
   ]
  },
  {
   "cell_type": "code",
   "execution_count": 27,
   "id": "63609648",
   "metadata": {},
   "outputs": [
    {
     "data": {
      "text/plain": [
       "array([False,  True, False, ...,  True,  True,  True])"
      ]
     },
     "execution_count": 27,
     "metadata": {},
     "output_type": "execute_result"
    }
   ],
   "source": [
    "# Examine dev list\n",
    "dev"
   ]
  },
  {
   "cell_type": "markdown",
   "id": "12807466",
   "metadata": {},
   "source": [
    "Note: It appears as it should because it shows the values are less than or equal to 0.7, which is the desired value. The code creates a list."
   ]
  },
  {
   "cell_type": "code",
   "execution_count": 28,
   "id": "134a3f24",
   "metadata": {},
   "outputs": [
    {
     "data": {
      "text/plain": [
       "array([0.93546686, 0.06557465, 0.85698584, 0.24456371, 0.22683171,\n",
       "       0.17068366, 0.27008946, 0.52534234, 0.83151571, 0.78153402])"
      ]
     },
     "execution_count": 28,
     "metadata": {},
     "output_type": "execute_result"
    }
   ],
   "source": [
    "# Illustrating random function\n",
    "np.random.rand(10)"
   ]
  },
  {
   "cell_type": "markdown",
   "id": "27b479bb",
   "metadata": {},
   "source": [
    "Split dataframe into two samples"
   ]
  },
  {
   "cell_type": "code",
   "execution_count": 29,
   "id": "3bd08e26",
   "metadata": {},
   "outputs": [],
   "source": [
    "# Store 70% of the sample in dataframe named \"big\"\n",
    "big = ords_prods_merged[dev]"
   ]
  },
  {
   "cell_type": "code",
   "execution_count": 30,
   "id": "629f2537",
   "metadata": {},
   "outputs": [],
   "source": [
    "# Store 30% of the sample in dataframe named \"small\"\n",
    "small = ords_prods_merged[~dev]"
   ]
  },
  {
   "cell_type": "code",
   "execution_count": 31,
   "id": "63815490",
   "metadata": {},
   "outputs": [
    {
     "data": {
      "text/plain": [
       "32404859"
      ]
     },
     "execution_count": 31,
     "metadata": {},
     "output_type": "execute_result"
    }
   ],
   "source": [
    "# Check sample subsets\n",
    "len(ords_prods_merged)"
   ]
  },
  {
   "cell_type": "code",
   "execution_count": 32,
   "id": "463d3aed",
   "metadata": {},
   "outputs": [
    {
     "data": {
      "text/plain": [
       "32404859"
      ]
     },
     "execution_count": 32,
     "metadata": {},
     "output_type": "execute_result"
    }
   ],
   "source": [
    "len(big) + len(small)"
   ]
  },
  {
   "cell_type": "markdown",
   "id": "0bdfc283",
   "metadata": {},
   "source": [
    "The numbers from both lines of code match, which shows the sample sizes are accurate."
   ]
  },
  {
   "cell_type": "code",
   "execution_count": 33,
   "id": "618c60b8",
   "metadata": {},
   "outputs": [],
   "source": [
    "# Reduce size of sample to necessary columns\n",
    "df_2 = small[['orders_day_of_week', 'prices']]"
   ]
  },
  {
   "cell_type": "code",
   "execution_count": 34,
   "id": "0b2d5f9d",
   "metadata": {},
   "outputs": [
    {
     "data": {
      "image/png": "[encoded data removed]",
      "text/plain": [
       "<Figure size 432x288 with 1 Axes>"
      ]
     },
     "metadata": {
      "needs_background": "light"
     },
     "output_type": "display_data"
    }
   ],
   "source": [
    "# Create line graph\n",
    "line = sns.lineplot(data = df_2, x = 'orders_day_of_week', y = 'prices')"
   ]
  },
  {
   "cell_type": "code",
   "execution_count": 35,
   "id": "7d25c206",
   "metadata": {},
   "outputs": [],
   "source": [
    "# Create line graph from entire data set\n",
    "df_4 = ords_prods_merged[['orders_day_of_week', 'prices']]"
   ]
  },
  {
   "cell_type": "code",
   "execution_count": null,
   "id": "86db5960",
   "metadata": {},
   "outputs": [],
   "source": []
  }
 ],
 "metadata": {
  "kernelspec": {
   "display_name": "Python 3 (ipykernel)",
   "language": "python",
   "name": "python3"
  },
  "language_info": {
   "codemirror_mode": {
    "name": "ipython",
    "version": 3
   },
   "file_extension": ".py",
   "mimetype": "text/x-python",
   "name": "python",
   "nbconvert_exporter": "python",
   "pygments_lexer": "ipython3",
   "version": "3.9.7"
  }
 },
 "nbformat": 4,
 "nbformat_minor": 5
}
